{
 "cells": [
  {
   "attachments": {},
   "cell_type": "markdown",
   "metadata": {},
   "source": [
    "## Data Structure\n",
    "\n"
   ]
  },
  {
   "attachments": {},
   "cell_type": "markdown",
   "metadata": {},
   "source": [
    "\n",
    "### cluster particle data\n",
    "\n",
    "The data of the Horizon run 5 simulation for our study has been split into various \"clusters{snap}.hdf5\" files where {snap} indicates the snapshot number of simulation. For example, the last snapshot at redshift of 0.625 is 296 for which the file name would be clusters296.hdf5. \n",
    "\n",
    "### cluster merger files\n",
    "\n",
    "These are csv files containing the snapshot number and cluster id of the cluster at that snapshot.\n",
    "It contains 8 columns, the following are of interest for the study: \n",
    "\n",
    "- time: Lookback time in Gyr\n",
    "- snap: snapshot number of simulation\n",
    "- HostHaloID: HostHaloID of the cluster at that snapshot\n",
    "- ClusMass(Msun): Mass of the cluster at that epoch in solar mass.\n",
    "- Massfraction: fraction of the final mass at that epoch\n"
   ]
  },
  {
   "attachments": {},
   "cell_type": "markdown",
   "metadata": {},
   "source": [
    "## Analysis"
   ]
  },
  {
   "attachments": {},
   "cell_type": "markdown",
   "metadata": {},
   "source": [
    "The <a>params.ini</a> sets the paths. Set the path of <b>outdir</b> to the location of hdf5 files.\n",
    "\n",
    "You can make the use of HR5_module.py to make the analysis. It contains the functions and classes used to perform the analysis.\n",
    "In the following we will see the functions available for analysis."
   ]
  },
  {
   "cell_type": "code",
   "execution_count": 5,
   "metadata": {},
   "outputs": [],
   "source": [
    "# import the modules\n",
    "import HR5_cluster as hr5\n",
    "import numpy as np \n",
    "import matplotlib.pyplot as plt\n",
    "import pandas as pd "
   ]
  },
  {
   "cell_type": "code",
   "execution_count": 18,
   "metadata": {},
   "outputs": [
    {
     "data": {
      "text/plain": [
       "Index(['HostHaloID', 'HostMtot(Msun)'], dtype='object')"
      ]
     },
     "execution_count": 18,
     "metadata": {},
     "output_type": "execute_result"
    }
   ],
   "source": [
    "# Get all the IDs of clusters present at the given snapshot\n",
    "snapshot=296\n",
    "\n",
    "# Let's define the instance of the class Cluster with the snapshot\n",
    "clus296 = pd.read_csv('../Data/groups5e13.csv')\n",
    "\n",
    "clus296.columns"
   ]
  },
  {
   "cell_type": "code",
   "execution_count": 19,
   "metadata": {},
   "outputs": [
    {
     "name": "stdout",
     "output_type": "stream",
     "text": [
      "[1561636, 1581385, 1664541, 1758257, 1808858, 1827559, 1847383, 1954735, 1983863, 2002628, 2013898, 2071135, 2199507, 2227715, 2246014, 2290169, 2290206, 2507502, 2592446, 2623756, 2734822, 2885792, 2892837, 2937863, 2944981, 3016893, 3069850, 3094112, 3178107, 3200641, 3226680, 3259117, 3284456, 3355500, 3359016, 3540174, 3651767, 3672299, 3689051, 3700933, 3744183, 3748260, 3780410, 3811219, 3882383, 3889787, 3929760, 3929767, 3929805, 3933724, 3945090, 4040811, 4063505, 4068321, 4081915, 4083100, 4147752, 4195553, 4226110, 4289749, 4309863, 4328263, 4415004, 4465008, 4465020, 4477204, 4481843, 4481851, 4549606, 4560890, 4617549, 4622511, 4658833, 4658856, 4714730, 4827650, 4838809, 4899516, 4901245, 4921745, 4966761, 4968706, 5011121, 5028157, 5033760, 5044774, 5049205, 5208836, 5259095, 5265012, 5332403, 5358495, 5375604, 5409575, 5462023, 5493185, 5520106, 5548455, 5573913, 5634590, 5638753, 5699819, 5715147, 5753402, 5816171, 5871163, 5884858, 5957816, 5960768, 5979633, 6143068, 6163362, 6234554, 6296509, 6300154, 6300164, 6324375, 6348998, 6379898, 6432794, 6490130, 6515835, 6550004, 6619898, 6702203, 6732705, 6898337, 6904035, 6907470, 6919328, 6921386, 6955851, 6957056, 6975241, 6981495, 7033920, 7045189, 7050142, 7055776, 7076724, 7098679, 7132535, 7142193, 7156868, 7157633, 7179669, 7218678, 7231399, 7241208, 7255539, 7256231, 7257320, 7265673, 7265674, 7265676, 7265677, 7265678, 7265679, 7265682, 7265685, 7265686, 7265688, 7265692, 7265693, 7265698, 7265700, 7265701, 7265702, 7265708, 7265709, 7265710, 7265711, 7265712, 7265713]\n"
     ]
    }
   ],
   "source": [
    "# These are the list IDs of the clusters\n",
    "cluslist = clus296['HostHaloID'].tolist()\n",
    "print(cluslist)\n",
    "# Lets pick 10th cluster in the list\n",
    "clusid = cluslist[10]\n"
   ]
  },
  {
   "cell_type": "code",
   "execution_count": 21,
   "metadata": {},
   "outputs": [],
   "source": [
    "# Initialize the class instance with the given `snapno` and `clusno`\n",
    "# The instance will contain all the information of the cluster and functions for further # processing\n",
    "clus = hr5.Cluster(snapshot,clusid)\n"
   ]
  },
  {
   "cell_type": "code",
   "execution_count": 24,
   "metadata": {},
   "outputs": [
    {
     "name": "stdout",
     "output_type": "stream",
     "text": [
      "['BCG_ID', 'clusID', 'clus_mdm', 'clus_mgas', 'clus_msink', 'clus_mstar', 'clus_mtot', 'clus_ngas', 'clus_nsink', 'clus_nstar', 'clus_nsub', 'clus_pos', 'clus_vel', 'f', 'get_all_parts', 'get_alldat_gal', 'get_galids', 'save_yt_dataset', 'snap']\n"
     ]
    }
   ],
   "source": [
    "# list all the functions and variables for the clus instance by dir(clus)\n",
    "# the items with '__' are private and can't be accessed, others are public\n",
    "# we get only public attributes\n",
    "\n",
    "# Get the list of all attributes and functions of the clus object\n",
    "all_attributes = dir(clus)\n",
    "\n",
    "# Filter the list to only include public attributes and functions\n",
    "public_attributes = [attr for attr in all_attributes if not attr.startswith('_')]\n",
    "\n",
    "# Print the resulting list of public attributes and functions\n",
    "print(public_attributes)\n"
   ]
  },
  {
   "attachments": {},
   "cell_type": "markdown",
   "metadata": {},
   "source": [
    "Attributes are the functions and variables that can be accessed using clus.{attribute_name} where {attribute_name} is the \n",
    "name of the attribute. We explain all the \n",
    "\n",
    "'BCG_ID'\n",
    "'clusID'\n",
    "'clus_mdm'\n",
    "'clus_mgas'\n",
    "'clus_msink'\n",
    "'clus_mstar'\n",
    "'clus_mtot'\n",
    "'clus_ngas'\n",
    "'clus_nsink'\n",
    "'clus_nstar'\n",
    "'clus_nsub'\n",
    "'clus_pos'\n",
    "'clus_vel'\n",
    "'f'\n",
    "'get_all_parts'\n",
    "'get_alldat_gal'\n",
    "'get_galids'\n",
    "'save_yt_dataset'\n",
    "'snap'"
   ]
  },
  {
   "cell_type": "code",
   "execution_count": 25,
   "metadata": {},
   "outputs": [
    {
     "data": {
      "text/plain": [
       "<HDF5 file \"clusters296.hdf5\" (mode r)>"
      ]
     },
     "execution_count": 25,
     "metadata": {},
     "output_type": "execute_result"
    }
   ],
   "source": [
    "\n"
   ]
  },
  {
   "cell_type": "code",
   "execution_count": null,
   "metadata": {},
   "outputs": [],
   "source": []
  }
 ],
 "metadata": {
  "kernelspec": {
   "display_name": "ICL",
   "language": "python",
   "name": "python3"
  },
  "language_info": {
   "codemirror_mode": {
    "name": "ipython",
    "version": 3
   },
   "file_extension": ".py",
   "mimetype": "text/x-python",
   "name": "python",
   "nbconvert_exporter": "python",
   "pygments_lexer": "ipython3",
   "version": "3.7.11"
  },
  "orig_nbformat": 4,
  "vscode": {
   "interpreter": {
    "hash": "1da0b1f0dd85413c4d98d83e0fbd779b3e25f6c9c502cffbf93bbaa6798ff8de"
   }
  }
 },
 "nbformat": 4,
 "nbformat_minor": 2
}
