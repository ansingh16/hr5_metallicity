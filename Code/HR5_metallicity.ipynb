{
 "cells": [
  {
   "attachments": {},
   "cell_type": "markdown",
   "metadata": {},
   "source": [
    "## Data Structure\n",
    "\n"
   ]
  },
  {
   "attachments": {},
   "cell_type": "markdown",
   "metadata": {},
   "source": [
    "\n",
    "### cluster particle data\n",
    "\n",
    "The data of the Horizon run 5 simulation for our study has been split into various \"clusters{snap}.hdf5\" files where {snap} indicates the snapshot number of simulation. For example, the last snapshot at redshift of 0.625 is 296 for which the file name would be clusters296.hdf5. \n",
    "\n",
    "### cluster merger files\n",
    "\n",
    "These are csv files containing the snapshot number and cluster id of the cluster at that snapshot.\n",
    "It contains 8 columns, the following are of interest for the study: \n",
    "\n",
    "- time: Lookback time in Gyr\n",
    "- snap: snapshot number of simulation\n",
    "- HostHaloID: HostHaloID of the cluster at that snapshot\n",
    "- ClusMass(Msun): Mass of the cluster at that epoch in solar mass.\n",
    "- Massfraction: fraction of the final mass at that epoch\n"
   ]
  },
  {
   "attachments": {},
   "cell_type": "markdown",
   "metadata": {},
   "source": [
    "## Analysis"
   ]
  },
  {
   "attachments": {},
   "cell_type": "markdown",
   "metadata": {},
   "source": [
    "The <a>params.ini</a> sets the paths. Set the path of <b>outdir</b> to the location of hdf5 files.\n",
    "\n",
    "You can make the use of HR5_module.py to make the analysis. It contains the functions and classes used to perform the analysis.\n",
    "In the following we will see the functions available for analysis."
   ]
  },
  {
   "cell_type": "code",
   "execution_count": 1,
   "metadata": {},
   "outputs": [
    {
     "name": "stderr",
     "output_type": "stream",
     "text": [
      "/home/ankitsingh/miniconda3/envs/ICL/lib/python3.7/_collections_abc.py:666: MatplotlibDeprecationWarning: The global colormaps dictionary is no longer considered public API.\n",
      "  self[key]\n"
     ]
    }
   ],
   "source": [
    "# import the modules\n",
    "import HR5_cluster as hr5\n",
    "import numpy as np \n",
    "import matplotlib.pyplot as plt\n",
    "import pandas as pd "
   ]
  },
  {
   "cell_type": "code",
   "execution_count": 2,
   "metadata": {},
   "outputs": [
    {
     "data": {
      "text/plain": [
       "Index(['HostHaloID', 'HostMtot(Msun)'], dtype='object')"
      ]
     },
     "execution_count": 2,
     "metadata": {},
     "output_type": "execute_result"
    }
   ],
   "source": [
    "# Get all the IDs of clusters present at the given snapshot\n",
    "snapshot=296\n",
    "\n",
    "# Let s define the instance of the class Cluster with the snapshot\n",
    "clus296 = pd.read_csv('../Data/groups5e13.csv')\n",
    "\n",
    "clus296.columns"
   ]
  },
  {
   "cell_type": "code",
   "execution_count": 3,
   "metadata": {},
   "outputs": [
    {
     "name": "stdout",
     "output_type": "stream",
     "text": [
      "[1561636, 1581385, 1664541, 1758257, 1808858, 1827559, 1847383, 1954735, 1983863, 2002628, 2013898, 2071135, 2199507, 2227715, 2246014, 2290169, 2290206, 2507502, 2592446, 2623756, 2734822, 2885792, 2892837, 2937863, 2944981, 3016893, 3069850, 3094112, 3178107, 3200641, 3226680, 3259117, 3284456, 3355500, 3359016, 3540174, 3651767, 3672299, 3689051, 3700933, 3744183, 3748260, 3780410, 3811219, 3882383, 3889787, 3929760, 3929767, 3929805, 3933724, 3945090, 4040811, 4063505, 4068321, 4081915, 4083100, 4147752, 4195553, 4226110, 4289749, 4309863, 4328263, 4415004, 4465008, 4465020, 4477204, 4481843, 4481851, 4549606, 4560890, 4617549, 4622511, 4658833, 4658856, 4714730, 4827650, 4838809, 4899516, 4901245, 4921745, 4966761, 4968706, 5011121, 5028157, 5033760, 5044774, 5049205, 5208836, 5259095, 5265012, 5332403, 5358495, 5375604, 5409575, 5462023, 5493185, 5520106, 5548455, 5573913, 5634590, 5638753, 5699819, 5715147, 5753402, 5816171, 5871163, 5884858, 5957816, 5960768, 5979633, 6143068, 6163362, 6234554, 6296509, 6300154, 6300164, 6324375, 6348998, 6379898, 6432794, 6490130, 6515835, 6550004, 6619898, 6702203, 6732705, 6898337, 6904035, 6907470, 6919328, 6921386, 6955851, 6957056, 6975241, 6981495, 7033920, 7045189, 7050142, 7055776, 7076724, 7098679, 7132535, 7142193, 7156868, 7157633, 7179669, 7218678, 7231399, 7241208, 7255539, 7256231, 7257320, 7265673, 7265674, 7265676, 7265677, 7265678, 7265679, 7265682, 7265685, 7265686, 7265688, 7265692, 7265693, 7265698, 7265700, 7265701, 7265702, 7265708, 7265709, 7265710, 7265711, 7265712, 7265713]\n"
     ]
    }
   ],
   "source": [
    "# These are the list IDs of the clusters\n",
    "cluslist = clus296['HostHaloID'].tolist()\n",
    "print(cluslist)\n",
    "# Lets pick 10th cluster in the list\n",
    "clusid = cluslist[10]\n"
   ]
  },
  {
   "cell_type": "code",
   "execution_count": 4,
   "metadata": {},
   "outputs": [],
   "source": [
    "# Initialize the class instance with the given `snapno` and `clusno`\n",
    "# The instance will contain all the information of the cluster and functions for further # processing\n",
    "clus = hr5.Cluster(snapshot,clusid)\n"
   ]
  },
  {
   "cell_type": "code",
   "execution_count": 5,
   "metadata": {},
   "outputs": [
    {
     "name": "stdout",
     "output_type": "stream",
     "text": [
      "['bcgid', 'clusID', 'clus_mdm', 'clus_mgas', 'clus_msink', 'clus_mstar', 'clus_mtot', 'clus_ngas', 'clus_nsink', 'clus_nstar', 'clus_nsub', 'clus_pos', 'clus_vel', 'f', 'get_all_parts', 'get_alldat_gal', 'get_galids', 'save_yt_dataset', 'snap']\n"
     ]
    }
   ],
   "source": [
    "# list all the functions and variables for the clus instance by dir(clus)\n",
    "# the items with  __  are private and can t be accessed, others are public\n",
    "# we get only public attributes\n",
    "\n",
    "# Get the list of all attributes and functions of the clus object\n",
    "all_attributes = dir(clus)\n",
    "\n",
    "# Filter the list to only include public attributes and functions\n",
    "public_attributes = [attr for attr in all_attributes if not attr.startswith( '_' )]\n",
    "\n",
    "# Print the resulting list of public attributes and functions\n",
    "print(public_attributes)\n"
   ]
  },
  {
   "attachments": {},
   "cell_type": "markdown",
   "metadata": {},
   "source": [
    "Attributes are the functions and variables that can be accessed using clus.{attribute_name} where {attribute_name} is the \n",
    "name of the attribute. We explain all the varible and functions:\n",
    "\n",
    "- bcgid: galaxy id of the most massive galaxy\n",
    "- clusID: cluster id at the snapshot\n",
    "- clus_mdm: total dark matter mass of the cluster\n",
    "- clus_mgas: total gas mass of the cluster\n",
    "- clus_msink: total sink particle mass of cluster \n",
    "- clus_mstar: total stellar mass of cluster\n",
    "- clus_mtot: total mass of the cluster\n",
    "- clus_ngas: total number of gas particles in cluster \n",
    "- clus_nsink: total number of sink particles in cluster\n",
    "- clus_nstar: total number of star particles in cluster\n",
    "- clus_nsub: total number of subhalos (galaxies) cluster\n",
    "- clus_pos: position of cluster in cMpc in the simulation\n",
    "- clus_vel: velocity of the cluster in km/s \n",
    "- f: excess to the raw hdf5 file\n",
    "- get_all_parts: function to get all particles of a type in cluster\n",
    "- get_alldat_gal: get all data for a galaxy\n",
    "- get_galids: get all galaxy ids in a cluster\n",
    "- save_yt_dataset: get yt dataset for a cluster\n",
    "- snap: snapshot number "
   ]
  },
  {
   "cell_type": "code",
   "execution_count": 6,
   "metadata": {},
   "outputs": [
    {
     "name": "stdout",
     "output_type": "stream",
     "text": [
      "\u001b[0;31mSignature:\u001b[0m \u001b[0mclus\u001b[0m\u001b[0;34m.\u001b[0m\u001b[0mget_galids\u001b[0m\u001b[0;34m(\u001b[0m\u001b[0;34m)\u001b[0m\u001b[0;34m\u001b[0m\u001b[0;34m\u001b[0m\u001b[0m\n",
      "\u001b[0;31mDocstring:\u001b[0m\n",
      "Returns a list of galaxy IDs from the `self.f` dictionary that corresponds to the cluster with ID `self.clusID`.\n",
      "\n",
      ":return: A list of galaxy IDs.\n",
      "\u001b[0;31mFile:\u001b[0m      ~/hr5_metallicity/Code/HR5_cluster.py\n",
      "\u001b[0;31mType:\u001b[0m      method\n"
     ]
    }
   ],
   "source": [
    "# You can also get explaination of the attributes and functions using ? or ??\n",
    "clus.get_galids?\n"
   ]
  },
  {
   "cell_type": "code",
   "execution_count": 7,
   "metadata": {},
   "outputs": [
    {
     "name": "stdout",
     "output_type": "stream",
     "text": [
      "['2087002', '2087003', '2087004', '2087005', '2087006', '2087007', '2087008', '2087009', '2087010', '2087011']\n"
     ]
    }
   ],
   "source": [
    "# Get all ids galaxies in the cluster\n",
    "\n",
    "gal_list = clus.get_galids()\n",
    "\n",
    "# print first 10\n",
    "print(gal_list[:10])\n",
    "\n"
   ]
  },
  {
   "cell_type": "code",
   "execution_count": 8,
   "metadata": {},
   "outputs": [
    {
     "name": "stdout",
     "output_type": "stream",
     "text": [
      "\u001b[0;31mSignature:\u001b[0m \u001b[0mclus\u001b[0m\u001b[0;34m.\u001b[0m\u001b[0mget_all_parts\u001b[0m\u001b[0;34m(\u001b[0m\u001b[0mpartype\u001b[0m\u001b[0;34m)\u001b[0m\u001b[0;34m\u001b[0m\u001b[0;34m\u001b[0m\u001b[0m\n",
      "\u001b[0;31mDocstring:\u001b[0m\n",
      "This function returns an instance of the Galaxy class containing all parts of the specified type.\n",
      "\n",
      "Args:\n",
      "    partype (str): The type of part to retrieve.\n",
      "\n",
      "Returns:\n",
      "    Galaxy: An instance of the Galaxy class containing all parts of the specified type.\n",
      "\u001b[0;31mFile:\u001b[0m      ~/hr5_metallicity/Code/HR5_cluster.py\n",
      "\u001b[0;31mType:\u001b[0m      method\n"
     ]
    }
   ],
   "source": [
    "# get all particles of type 'star' in the cluster we can use get_all_parts\n",
    "\n",
    "clus.get_all_parts?"
   ]
  },
  {
   "cell_type": "code",
   "execution_count": 9,
   "metadata": {},
   "outputs": [
    {
     "name": "stdout",
     "output_type": "stream",
     "text": [
      "Processing galaxy 2087002\n",
      "Processing galaxy 2087003\n",
      "Processing galaxy 2087004\n",
      "Processing galaxy 2087005\n",
      "Processing galaxy 2087006\n",
      "Processing galaxy 2087007\n",
      "Processing galaxy 2087008\n",
      "Processing galaxy 2087009\n",
      "Processing galaxy 2087010\n",
      "Processing galaxy 2087011\n",
      "Processing galaxy 2087012\n",
      "Processing galaxy 2087013\n",
      "Processing galaxy 2087014\n",
      "Processing galaxy 2087015\n",
      "Processing galaxy 2087016\n",
      "Processing galaxy 2087017\n",
      "Processing galaxy 2087018\n",
      "Processing galaxy 2087019\n",
      "Processing galaxy 2087020\n",
      "Processing galaxy 2087021\n",
      "Processing galaxy 2087022\n",
      "Processing galaxy 2087023\n",
      "Processing galaxy 2087024\n",
      "Processing galaxy 2087025\n",
      "Processing galaxy 2087026\n",
      "Processing galaxy 2087027\n",
      "Processing galaxy 2087028\n",
      "Processing galaxy 2087029\n",
      "Processing galaxy 2087030\n",
      "Processing galaxy 2087031\n",
      "Processing galaxy 2087032\n",
      "Processing galaxy 2087033\n",
      "Processing galaxy 2087034\n",
      "Processing galaxy 2087035\n",
      "Processing galaxy 2087036\n",
      "Processing galaxy 2087037\n",
      "Processing galaxy 2087038\n",
      "Processing galaxy 2087039\n",
      "Processing galaxy 2087040\n",
      "Processing galaxy 2087041\n",
      "Processing galaxy 2087042\n",
      "Processing galaxy 2087043\n",
      "Processing galaxy 2087044\n",
      "Processing galaxy 2087045\n",
      "Processing galaxy 2087046\n",
      "Processing galaxy 2087047\n",
      "Processing galaxy 2087048\n",
      "Processing galaxy 2087049\n",
      "Processing galaxy 2087050\n",
      "Processing galaxy 2087051\n",
      "Processing galaxy 2087052\n",
      "Processing galaxy 2087053\n",
      "Processing galaxy 2087054\n",
      "Processing galaxy 2087055\n",
      "Processing galaxy 2087056\n",
      "Processing galaxy 2087057\n",
      "Processing galaxy 2087058\n",
      "Processing galaxy 2087059\n",
      "Processing galaxy 2087060\n",
      "Processing galaxy 2087061\n",
      "Processing galaxy 2087062\n",
      "Processing galaxy 2087063\n",
      "Processing galaxy 2087064\n",
      "Processing galaxy 2087065\n",
      "Processing galaxy 2087066\n",
      "Processing galaxy 2087067\n",
      "Processing galaxy 2087068\n",
      "Processing galaxy 2087069\n",
      "Processing galaxy 2087070\n",
      "Processing galaxy 2087071\n",
      "Processing galaxy 2087072\n",
      "Processing galaxy 2087073\n",
      "Processing galaxy 2087074\n",
      "Processing galaxy 2087075\n",
      "Processing galaxy 2087076\n",
      "Processing galaxy 2087077\n",
      "Processing galaxy 2087078\n",
      "Processing galaxy 2087079\n",
      "Processing galaxy 2087080\n",
      "Processing galaxy 2087081\n",
      "Processing galaxy 2087082\n",
      "Processing galaxy 2087083\n",
      "Processing galaxy 2087084\n",
      "Processing galaxy 2087085\n",
      "Processing galaxy 2087086\n",
      "Processing galaxy 2087087\n",
      "Processing galaxy 2087088\n",
      "Processing galaxy 2087089\n",
      "Processing galaxy 2087090\n",
      "Processing galaxy 2087091\n",
      "Processing galaxy 2087092\n",
      "Processing galaxy 2087093\n",
      "Processing galaxy 2087094\n",
      "Processing galaxy 2087095\n",
      "Processing galaxy 2087096\n",
      "Processing galaxy 2087097\n",
      "Processing galaxy 2087098\n",
      "Processing galaxy 2087099\n",
      "Processing galaxy 2087100\n",
      "Processing galaxy 2087101\n",
      "Processing galaxy 2087102\n",
      "Processing galaxy 2087103\n",
      "Processing galaxy 2087104\n",
      "Processing galaxy 2087105\n",
      "Processing galaxy 2087106\n",
      "Processing galaxy 2087107\n",
      "Processing galaxy 2087108\n",
      "Processing galaxy 2087109\n",
      "Processing galaxy 2087110\n",
      "Processing galaxy 2087111\n",
      "Processing galaxy 2087112\n",
      "Processing galaxy 2087113\n",
      "Processing galaxy 2087114\n",
      "Processing galaxy 2087115\n",
      "Processing galaxy 2087116\n",
      "Processing galaxy 2087117\n",
      "Processing galaxy 2087118\n",
      "Processing galaxy 2087119\n",
      "Processing galaxy 2087120\n",
      "Processing galaxy 2087121\n",
      "Processing galaxy 2087122\n",
      "Processing galaxy 2087123\n",
      "Processing galaxy 2087124\n",
      "Processing galaxy 2087125\n",
      "Processing galaxy 2087126\n",
      "Processing galaxy 2087127\n",
      "Processing galaxy 2087128\n",
      "Processing galaxy 2087129\n",
      "Processing galaxy 2087130\n",
      "Processing galaxy 2087131\n",
      "Processing galaxy 2087132\n",
      "Processing galaxy ICL\n"
     ]
    }
   ],
   "source": [
    "# get all stellar particles it returns a Galaxy object but this only contains\n",
    "# the sttributes for stellar particles and others are empty\n",
    "\n",
    "stars = clus.get_all_parts('star')"
   ]
  },
  {
   "cell_type": "code",
   "execution_count": 35,
   "metadata": {},
   "outputs": [
    {
     "data": {
      "image/png": "[encoded data removed]",
      "text/plain": [
       "<Figure size 432x432 with 1 Axes>"
      ]
     },
     "metadata": {},
     "output_type": "display_data"
    }
   ],
   "source": [
    "# We can plot these stars\n",
    "\n",
    "star_pos = stars.star_pos_com\n",
    "\n",
    "fig,ax = plt.subplots(1,1,figsize=(6,6))\n",
    "ax.set_xlabel(r'$x(cMpc)$')\n",
    "ax.set_ylabel(r'$y(cMpc)$')\n",
    "ax.scatter(star_pos[:,0],star_pos[:,1],s=0.001)\n",
    "ax.set_title(f\"Stars in cluster {clusid}\")\n",
    "ax.set_xlim(-1.5,1.5)\n",
    "ax.set_ylim(-1.5,1.5)\n",
    "\n",
    "plt.show()"
   ]
  },
  {
   "cell_type": "code",
   "execution_count": 10,
   "metadata": {},
   "outputs": [
    {
     "name": "stdout",
     "output_type": "stream",
     "text": [
      "\u001b[0;31mSignature:\u001b[0m \u001b[0mclus\u001b[0m\u001b[0;34m.\u001b[0m\u001b[0mget_alldat_gal\u001b[0m\u001b[0;34m(\u001b[0m\u001b[0mgalist\u001b[0m\u001b[0;34m)\u001b[0m\u001b[0;34m\u001b[0m\u001b[0;34m\u001b[0m\u001b[0m\n",
      "\u001b[0;31mDocstring:\u001b[0m\n",
      "This function takes in a list of galaxy IDs or a single galaxy ID and returns a Galaxy object or a list of Galaxy objects respectively. \n",
      "\n",
      "Args:\n",
      "- galist (list or int): A list of galaxy IDs or a single galaxy ID.\n",
      "\n",
      "Returns:\n",
      "- outgal (list): A list of Galaxy objects if galist is a list.\n",
      "- gal (Galaxy object): A Galaxy object if galist is an int.\n",
      "\u001b[0;31mFile:\u001b[0m      ~/hr5_metallicity/Code/HR5_cluster.py\n",
      "\u001b[0;31mType:\u001b[0m      method\n"
     ]
    }
   ],
   "source": [
    "# we can use function get_allgal_data to get all the data of the galaxies in the cluster\n",
    "# let's see the inputs\n",
    "\n",
    "clus.get_alldat_gal?"
   ]
  },
  {
   "cell_type": "code",
   "execution_count": 11,
   "metadata": {},
   "outputs": [
    {
     "name": "stdout",
     "output_type": "stream",
     "text": [
      "Processing galaxy 2087002\n"
     ]
    }
   ],
   "source": [
    "# Lets choose galaxy no 1 from the gal_list and run the function\n",
    "\n",
    "galid = gal_list[0]\n",
    "\n",
    "gal = clus.get_alldat_gal(galid)"
   ]
  },
  {
   "cell_type": "code",
   "execution_count": 12,
   "metadata": {},
   "outputs": [
    {
     "name": "stdout",
     "output_type": "stream",
     "text": [
      "['bcgid', 'clusID', 'clus_mdm', 'clus_mgas', 'clus_msink', 'clus_mstar', 'clus_mtot', 'clus_ngas', 'clus_nsink', 'clus_nstar', 'clus_nsub', 'clus_pos', 'clus_vel', 'dm_mass', 'dm_pos', 'dm_pos_com', 'dm_vel', 'f', 'galID', 'gal_mdm', 'gal_mgas', 'gal_msink', 'gal_mstar', 'gal_mtot', 'gal_ngas', 'gal_nsink', 'gal_nstar', 'gal_pos', 'gal_vel', 'gas_fe', 'gas_h', 'gas_mass', 'gas_o', 'gas_pos', 'gas_pos_com', 'gas_t', 'gas_vel', 'gas_z', 'get_all_parts', 'get_alldat_gal', 'get_galids', 'rcom_dm', 'rcom_gas', 'rcom_star', 'save_yt_dataset', 'snap', 'star_mass', 'star_pos', 'star_pos_com', 'star_vel', 'star_z']\n"
     ]
    }
   ],
   "source": [
    "# gal is a Galaxy object that has it's own attributes\n",
    "# lets see the attributes\n",
    "\n",
    "# Get the list of all attributes and functions of the gal object\n",
    "all_attributes = dir(gal)\n",
    "\n",
    "# Filter the list to only include public attributes and functions\n",
    "public_attributes = [attr for attr in all_attributes if not attr.startswith( '_' )]\n",
    "\n",
    "# Print the resulting list of public attributes and functions\n",
    "print(public_attributes)"
   ]
  },
  {
   "attachments": {},
   "cell_type": "markdown",
   "metadata": {},
   "source": [
    "Galaxy object takes it's inheritense from the Cluster class therefore contains all the parameters available for Class \n",
    "are available plus extra few. We explain them below:\n",
    "\n",
    "\n",
    "- dm_mass: array of dark matter mass : size (gal_ndm)\n",
    "- dm_pos: array of dark matter position size: (gal_ndm,3)\n",
    "- dm_pos_com: array of dark matter position in center of mass size: (gal_ndm,3)\n",
    "- dm_vel: array of dark matter velocity size: (gal_ndm,3)\n",
    "- galID: galaxy ID\n",
    "- gal_mdm: total dark matter mass of galaxy\n",
    "- gal_mgas: total gas mass of galaxy\n",
    "- gal_msink: total sink mass of galaxy\n",
    "- gal_mstar: total stellar mass of galaxy\n",
    "- gal_mtot: total mass of galaxy\n",
    "- gal_ngas: total number of gas particles in galaxy\n",
    "- gal_nsink: total number of sink particles in galaxy\n",
    "- gal_nstar: total number of stellar particles in galaxy\n",
    "- gal_pos: galaxy position size: 3\n",
    "- gal_vel: array of gas particle velocity size: 3\n",
    "- gas_fe: array of fe size: (gal_ngas)\n",
    "- gas_h: array of h size: (gal_ngas)\n",
    "- gas_mass: array of gas particle mass : size (gal_gas)\n",
    "- gas_o: array of o size: (gal_ngas)\n",
    "- gas_pos: array of gas particle position size: (gal_ngas,3)\n",
    "- gas_pos_com: array of gas particle position in center of mass size: (gal_ngas,3)\n",
    "- gas_t: array of gas temperature size: (gal_ngas)\n",
    "- gas_vel: array of gas particle velocity size: (gal_ngas,3)\n",
    "- gas_z: array of gas metallicity size: (gal_ngas)\n",
    "- rcom_dm: array of dark matter particle distances from origin in COM frame: (gal_ndm)\n",
    "- rcom_gas: array of gas particle distances from origin in COM frame: (gal_ngas)\n",
    "- rcom_star: array of stellar particle distances from origin in COM frame: (gal_nstar)\n",
    "- star_mass: array of stellar particle mass: (gal_nstar)\n",
    "- star_pos: array of stellar particle position size: (gal_nstar,3)\n",
    "- star_pos_com: array of stellar particle position in COM frame size: (gal_nstar,3)\n",
    "- star_vel: array of stellar particle velocity size: (gal_nstar,3)\n",
    "- star_z: array of stellar particle metallicty size: (gal_nstar)\n"
   ]
  },
  {
   "cell_type": "code",
   "execution_count": 13,
   "metadata": {},
   "outputs": [
    {
     "name": "stdout",
     "output_type": "stream",
     "text": [
      "Processing galaxy 2087002\n",
      "Processing galaxy 2087003\n",
      "Processing galaxy 2087004\n",
      "Processing galaxy 2087005\n",
      "Processing galaxy 2087006\n"
     ]
    }
   ],
   "source": [
    "# You can also choose a list of galaxies and run the function\n",
    "# lets choose first 5 galaxies from gal_list\n",
    "galxs = gal_list[:5]\n",
    "\n",
    "galout = clus.get_alldat_gal(galxs)"
   ]
  },
  {
   "cell_type": "code",
   "execution_count": 14,
   "metadata": {},
   "outputs": [
    {
     "data": {
      "text/plain": [
       "[<HR5_cluster.Galaxy at 0x7f3ef15ef350>,\n",
       " <HR5_cluster.Galaxy at 0x7f3ef15ef950>,\n",
       " <HR5_cluster.Galaxy at 0x7f3ef164db90>,\n",
       " <HR5_cluster.Galaxy at 0x7f3ef1647710>,\n",
       " <HR5_cluster.Galaxy at 0x7f3ef1649ed0>]"
      ]
     },
     "execution_count": 14,
     "metadata": {},
     "output_type": "execute_result"
    }
   ],
   "source": [
    "# galout now contains the list of galaxy object which contains the\n",
    "# the all the attributes above\n",
    "\n",
    "galout"
   ]
  },
  {
   "cell_type": "code",
   "execution_count": 37,
   "metadata": {},
   "outputs": [
    {
     "name": "stdout",
     "output_type": "stream",
     "text": [
      "(144, 3)\n"
     ]
    }
   ],
   "source": [
    "# To get for example the position of dark matter in COM frame\n",
    "# for galaxy 2087002 (gal) defined above this is a array of size (ndm,3)\n",
    "dmcom = gal.dm_pos_com\n",
    "\n",
    "print(dmcom.shape)"
   ]
  },
  {
   "attachments": {},
   "cell_type": "markdown",
   "metadata": {},
   "source": [
    "The Module also allows us to get the data for the cluster in the <b>YT package</b> dataset.\n",
    "[YT Project](https://yt-project.org/) is used for analysis of simulations and has a variety of functions that are readily available. The dataset is saved as generic particle dataset.\n"
   ]
  },
  {
   "cell_type": "code",
   "execution_count": 38,
   "metadata": {},
   "outputs": [
    {
     "name": "stdout",
     "output_type": "stream",
     "text": [
      "\u001b[0;31mSignature:\u001b[0m \u001b[0mclus\u001b[0m\u001b[0;34m.\u001b[0m\u001b[0msave_yt_dataset\u001b[0m\u001b[0;34m(\u001b[0m\u001b[0mclusID\u001b[0m\u001b[0;34m)\u001b[0m\u001b[0;34m\u001b[0m\u001b[0;34m\u001b[0m\u001b[0m\n",
      "\u001b[0;31mDocstring:\u001b[0m\n",
      "Saves the yt dataset of the BCG, ICM, and rest of the galaxies.\n",
      "\n",
      "Parameters:\n",
      "-----------\n",
      "clusID: int\n",
      "    Unique identifier of the cluster.\n",
      "\n",
      "\n",
      "Returns:\n",
      "--------\n",
      "ds_all: yt dataset\n",
      "    Dataset containing all the particles.\n",
      "ds_rest: yt dataset\n",
      "    Dataset containing the rest of the galaxies particles.\n",
      "ds_bcg: yt dataset\n",
      "    Dataset containing the BCG particles.\n",
      "ds_icm: yt dataset\n",
      "    Dataset containing the ICM particles.\n",
      "\u001b[0;31mFile:\u001b[0m      ~/hr5_metallicity/Code/HR5_cluster.py\n",
      "\u001b[0;31mType:\u001b[0m      method\n"
     ]
    }
   ],
   "source": [
    "clus.save_yt_dataset?"
   ]
  },
  {
   "cell_type": "code",
   "execution_count": 40,
   "metadata": {},
   "outputs": [
    {
     "name": "stdout",
     "output_type": "stream",
     "text": [
      "Processing galaxy 2087008\n",
      "Processing galaxy 2087002\n",
      "Processing galaxy 2087003\n",
      "Processing galaxy 2087004\n",
      "Processing galaxy 2087005\n",
      "Processing galaxy 2087006\n",
      "Processing galaxy 2087007\n",
      "Processing galaxy 2087008\n",
      "Processing galaxy 2087009\n",
      "Processing galaxy 2087010\n",
      "Processing galaxy 2087011\n",
      "Processing galaxy 2087012\n",
      "Processing galaxy 2087013\n",
      "Processing galaxy 2087014\n",
      "Processing galaxy 2087015\n",
      "Processing galaxy 2087016\n",
      "Processing galaxy 2087017\n",
      "Processing galaxy 2087018\n",
      "Processing galaxy 2087019\n",
      "Processing galaxy 2087020\n",
      "Processing galaxy 2087021\n",
      "Processing galaxy 2087022\n",
      "Processing galaxy 2087023\n",
      "Processing galaxy 2087024\n",
      "Processing galaxy 2087025\n",
      "Processing galaxy 2087026\n",
      "Processing galaxy 2087027\n",
      "Processing galaxy 2087028\n",
      "Processing galaxy 2087029\n",
      "Processing galaxy 2087030\n",
      "Processing galaxy 2087031\n",
      "Processing galaxy 2087032\n",
      "Processing galaxy 2087033\n",
      "Processing galaxy 2087034\n",
      "Processing galaxy 2087035\n",
      "Processing galaxy 2087036\n",
      "Processing galaxy 2087037\n",
      "Processing galaxy 2087038\n",
      "Processing galaxy 2087039\n",
      "Processing galaxy 2087040\n",
      "Processing galaxy 2087041\n",
      "Processing galaxy 2087042\n",
      "Processing galaxy 2087043\n",
      "Processing galaxy 2087044\n",
      "Processing galaxy 2087045\n",
      "Processing galaxy 2087046\n",
      "Processing galaxy 2087047\n",
      "Processing galaxy 2087048\n",
      "Processing galaxy 2087049\n",
      "Processing galaxy 2087050\n",
      "Processing galaxy 2087051\n",
      "Processing galaxy 2087052\n",
      "Processing galaxy 2087053\n",
      "Processing galaxy 2087054\n",
      "Processing galaxy 2087055\n",
      "Processing galaxy 2087056\n",
      "Processing galaxy 2087057\n",
      "Processing galaxy 2087058\n",
      "Processing galaxy 2087059\n",
      "Processing galaxy 2087060\n",
      "Processing galaxy 2087061\n",
      "Processing galaxy 2087062\n",
      "Processing galaxy 2087063\n",
      "Processing galaxy 2087064\n",
      "Processing galaxy 2087065\n",
      "Processing galaxy 2087066\n",
      "Processing galaxy 2087067\n",
      "Processing galaxy 2087068\n",
      "Processing galaxy 2087069\n",
      "Processing galaxy 2087070\n",
      "Processing galaxy 2087071\n",
      "Processing galaxy 2087072\n",
      "Processing galaxy 2087073\n",
      "Processing galaxy 2087074\n",
      "Processing galaxy 2087075\n",
      "Processing galaxy 2087076\n",
      "Processing galaxy 2087077\n",
      "Processing galaxy 2087078\n",
      "Processing galaxy 2087079\n",
      "Processing galaxy 2087080\n",
      "Processing galaxy 2087081\n",
      "Processing galaxy 2087082\n",
      "Processing galaxy 2087083\n",
      "Processing galaxy 2087084\n",
      "Processing galaxy 2087085\n",
      "Processing galaxy 2087086\n",
      "Processing galaxy 2087087\n",
      "Processing galaxy 2087088\n",
      "Processing galaxy 2087089\n",
      "Processing galaxy 2087090\n",
      "Processing galaxy 2087091\n",
      "Processing galaxy 2087092\n",
      "Processing galaxy 2087093\n",
      "Processing galaxy 2087094\n",
      "Processing galaxy 2087095\n",
      "Processing galaxy 2087096\n",
      "Processing galaxy 2087097\n",
      "Processing galaxy 2087098\n",
      "Processing galaxy 2087099\n",
      "Processing galaxy 2087100\n",
      "Processing galaxy 2087101\n",
      "Processing galaxy 2087102\n",
      "Processing galaxy 2087103\n",
      "Processing galaxy 2087104\n",
      "Processing galaxy 2087105\n",
      "Processing galaxy 2087106\n",
      "Processing galaxy 2087107\n",
      "Processing galaxy 2087108\n",
      "Processing galaxy 2087109\n",
      "Processing galaxy 2087110\n",
      "Processing galaxy 2087111\n",
      "Processing galaxy 2087112\n",
      "Processing galaxy 2087113\n",
      "Processing galaxy 2087114\n",
      "Processing galaxy 2087115\n",
      "Processing galaxy 2087116\n",
      "Processing galaxy 2087117\n",
      "Processing galaxy 2087118\n",
      "Processing galaxy 2087119\n",
      "Processing galaxy 2087120\n",
      "Processing galaxy 2087121\n",
      "Processing galaxy 2087122\n",
      "Processing galaxy 2087123\n",
      "Processing galaxy 2087124\n",
      "Processing galaxy 2087125\n",
      "Processing galaxy 2087126\n",
      "Processing galaxy 2087127\n",
      "Processing galaxy 2087128\n",
      "Processing galaxy 2087129\n",
      "Processing galaxy 2087130\n",
      "Processing galaxy 2087131\n",
      "Processing galaxy 2087132\n",
      "Processing galaxy ICL\n",
      "Processing galaxy 2087002\n",
      "Processing galaxy 2087003\n",
      "Processing galaxy 2087004\n",
      "Processing galaxy 2087005\n",
      "Processing galaxy 2087006\n",
      "Processing galaxy 2087007\n",
      "Processing galaxy 2087009\n",
      "Processing galaxy 2087010\n",
      "Processing galaxy 2087011\n",
      "Processing galaxy 2087012\n",
      "Processing galaxy 2087013\n",
      "Processing galaxy 2087014\n",
      "Processing galaxy 2087015\n",
      "Processing galaxy 2087016\n",
      "Processing galaxy 2087017\n",
      "Processing galaxy 2087018\n",
      "Processing galaxy 2087019\n",
      "Processing galaxy 2087020\n",
      "Processing galaxy 2087021\n",
      "Processing galaxy 2087022\n",
      "Processing galaxy 2087023\n",
      "Processing galaxy 2087024\n",
      "Processing galaxy 2087025\n",
      "Processing galaxy 2087026\n",
      "Processing galaxy 2087027\n",
      "Processing galaxy 2087028\n",
      "Processing galaxy 2087029\n",
      "Processing galaxy 2087030\n",
      "Processing galaxy 2087031\n",
      "Processing galaxy 2087032\n",
      "Processing galaxy 2087033\n",
      "Processing galaxy 2087034\n",
      "Processing galaxy 2087035\n",
      "Processing galaxy 2087036\n",
      "Processing galaxy 2087037\n",
      "Processing galaxy 2087038\n",
      "Processing galaxy 2087039\n",
      "Processing galaxy 2087040\n",
      "Processing galaxy 2087041\n",
      "Processing galaxy 2087042\n",
      "Processing galaxy 2087043\n",
      "Processing galaxy 2087044\n",
      "Processing galaxy 2087045\n",
      "Processing galaxy 2087046\n",
      "Processing galaxy 2087047\n",
      "Processing galaxy 2087048\n",
      "Processing galaxy 2087049\n",
      "Processing galaxy 2087050\n",
      "Processing galaxy 2087051\n",
      "Processing galaxy 2087052\n",
      "Processing galaxy 2087053\n",
      "Processing galaxy 2087054\n",
      "Processing galaxy 2087055\n",
      "Processing galaxy 2087056\n",
      "Processing galaxy 2087057\n",
      "Processing galaxy 2087058\n",
      "Processing galaxy 2087059\n",
      "Processing galaxy 2087060\n",
      "Processing galaxy 2087061\n",
      "Processing galaxy 2087062\n",
      "Processing galaxy 2087063\n",
      "Processing galaxy 2087064\n",
      "Processing galaxy 2087065\n",
      "Processing galaxy 2087066\n",
      "Processing galaxy 2087067\n",
      "Processing galaxy 2087068\n",
      "Processing galaxy 2087069\n",
      "Processing galaxy 2087070\n",
      "Processing galaxy 2087071\n",
      "Processing galaxy 2087072\n",
      "Processing galaxy 2087073\n",
      "Processing galaxy 2087074\n",
      "Processing galaxy 2087075\n",
      "Processing galaxy 2087076\n",
      "Processing galaxy 2087077\n",
      "Processing galaxy 2087078\n",
      "Processing galaxy 2087079\n",
      "Processing galaxy 2087080\n",
      "Processing galaxy 2087081\n",
      "Processing galaxy 2087082\n",
      "Processing galaxy 2087083\n",
      "Processing galaxy 2087084\n",
      "Processing galaxy 2087085\n",
      "Processing galaxy 2087086\n",
      "Processing galaxy 2087087\n",
      "Processing galaxy 2087088\n",
      "Processing galaxy 2087089\n",
      "Processing galaxy 2087090\n",
      "Processing galaxy 2087091\n",
      "Processing galaxy 2087092\n",
      "Processing galaxy 2087093\n",
      "Processing galaxy 2087094\n",
      "Processing galaxy 2087095\n",
      "Processing galaxy 2087096\n",
      "Processing galaxy 2087097\n",
      "Processing galaxy 2087098\n",
      "Processing galaxy 2087099\n",
      "Processing galaxy 2087100\n",
      "Processing galaxy 2087101\n",
      "Processing galaxy 2087102\n",
      "Processing galaxy 2087103\n",
      "Processing galaxy 2087104\n",
      "Processing galaxy 2087105\n",
      "Processing galaxy 2087106\n",
      "Processing galaxy 2087107\n",
      "Processing galaxy 2087108\n",
      "Processing galaxy 2087109\n",
      "Processing galaxy 2087110\n",
      "Processing galaxy 2087111\n",
      "Processing galaxy 2087112\n",
      "Processing galaxy 2087113\n",
      "Processing galaxy 2087114\n",
      "Processing galaxy 2087115\n",
      "Processing galaxy 2087116\n",
      "Processing galaxy 2087117\n",
      "Processing galaxy 2087118\n",
      "Processing galaxy 2087119\n",
      "Processing galaxy 2087120\n",
      "Processing galaxy 2087121\n",
      "Processing galaxy 2087122\n",
      "Processing galaxy 2087123\n",
      "Processing galaxy 2087124\n",
      "Processing galaxy 2087125\n",
      "Processing galaxy 2087126\n",
      "Processing galaxy 2087127\n",
      "Processing galaxy 2087128\n",
      "Processing galaxy 2087129\n",
      "Processing galaxy 2087130\n",
      "Processing galaxy 2087131\n",
      "Processing galaxy 2087132\n",
      "Processing galaxy ICL\n"
     ]
    },
    {
     "name": "stderr",
     "output_type": "stream",
     "text": [
      "yt : [INFO     ] 2023-06-15 20:48:51,140 Parameters: current_time              = 0.0\n",
      "yt : [INFO     ] 2023-06-15 20:48:51,141 Parameters: domain_dimensions         = [2 2 2]\n",
      "yt : [INFO     ] 2023-06-15 20:48:51,142 Parameters: domain_left_edge          = [-0.2 -0.2 -0.2]\n",
      "yt : [INFO     ] 2023-06-15 20:48:51,144 Parameters: domain_right_edge         = [0.2 0.2 0.2]\n",
      "yt : [INFO     ] 2023-06-15 20:48:51,145 Parameters: cosmological_simulation   = 0.0\n",
      "yt : [INFO     ] 2023-06-15 20:48:51,150 Allocating for 3.765e+06 particles (index particle type 'all')\n",
      "yt : [INFO     ] 2023-06-15 20:48:51,493 Parameters: current_time              = 0.0\n",
      "yt : [INFO     ] 2023-06-15 20:48:51,494 Parameters: domain_dimensions         = [2 2 2]\n",
      "yt : [INFO     ] 2023-06-15 20:48:51,494 Parameters: domain_left_edge          = [-0.4 -0.4 -0.4]\n",
      "yt : [INFO     ] 2023-06-15 20:48:51,495 Parameters: domain_right_edge         = [0.4 0.4 0.4]\n",
      "yt : [INFO     ] 2023-06-15 20:48:51,496 Parameters: cosmological_simulation   = 0.0\n",
      "yt : [INFO     ] 2023-06-15 20:48:51,500 Allocating for 3.765e+06 particles (index particle type 'all')\n",
      "yt : [INFO     ] 2023-06-15 20:48:51,809 Parameters: current_time              = 0.0\n",
      "yt : [INFO     ] 2023-06-15 20:48:51,810 Parameters: domain_dimensions         = [2 2 2]\n",
      "yt : [INFO     ] 2023-06-15 20:48:51,811 Parameters: domain_left_edge          = [-0.6 -0.6 -0.6]\n",
      "yt : [INFO     ] 2023-06-15 20:48:51,811 Parameters: domain_right_edge         = [0.6 0.6 0.6]\n",
      "yt : [INFO     ] 2023-06-15 20:48:51,812 Parameters: cosmological_simulation   = 0.0\n",
      "yt : [INFO     ] 2023-06-15 20:48:51,816 Allocating for 3.765e+06 particles (index particle type 'all')\n",
      "yt : [INFO     ] 2023-06-15 20:48:52,227 Parameters: current_time              = 0.0\n",
      "yt : [INFO     ] 2023-06-15 20:48:52,227 Parameters: domain_dimensions         = [2 2 2]\n",
      "yt : [INFO     ] 2023-06-15 20:48:52,228 Parameters: domain_left_edge          = [-0.8 -0.8 -0.8]\n",
      "yt : [INFO     ] 2023-06-15 20:48:52,229 Parameters: domain_right_edge         = [0.8 0.8 0.8]\n",
      "yt : [INFO     ] 2023-06-15 20:48:52,229 Parameters: cosmological_simulation   = 0.0\n",
      "yt : [INFO     ] 2023-06-15 20:48:52,234 Allocating for 3.765e+06 particles (index particle type 'all')\n",
      "yt : [INFO     ] 2023-06-15 20:48:52,557 Parameters: current_time              = 0.0\n",
      "yt : [INFO     ] 2023-06-15 20:48:52,558 Parameters: domain_dimensions         = [2 2 2]\n",
      "yt : [INFO     ] 2023-06-15 20:48:52,558 Parameters: domain_left_edge          = [-1. -1. -1.]\n",
      "yt : [INFO     ] 2023-06-15 20:48:52,559 Parameters: domain_right_edge         = [1. 1. 1.]\n",
      "yt : [INFO     ] 2023-06-15 20:48:52,560 Parameters: cosmological_simulation   = 0.0\n",
      "yt : [INFO     ] 2023-06-15 20:48:52,563 Allocating for 3.765e+06 particles (index particle type 'all')\n",
      "yt : [INFO     ] 2023-06-15 20:48:52,862 Parameters: current_time              = 0.0\n",
      "yt : [INFO     ] 2023-06-15 20:48:52,863 Parameters: domain_dimensions         = [2 2 2]\n",
      "yt : [INFO     ] 2023-06-15 20:48:52,864 Parameters: domain_left_edge          = [-1.2 -1.2 -1.2]\n",
      "yt : [INFO     ] 2023-06-15 20:48:52,865 Parameters: domain_right_edge         = [1.2 1.2 1.2]\n",
      "yt : [INFO     ] 2023-06-15 20:48:52,865 Parameters: cosmological_simulation   = 0.0\n",
      "yt : [INFO     ] 2023-06-15 20:48:52,869 Allocating for 3.765e+06 particles (index particle type 'all')\n",
      "yt : [INFO     ] 2023-06-15 20:48:53,299 Parameters: current_time              = 0.0\n",
      "yt : [INFO     ] 2023-06-15 20:48:53,300 Parameters: domain_dimensions         = [2 2 2]\n",
      "yt : [INFO     ] 2023-06-15 20:48:53,301 Parameters: domain_left_edge          = [-1.4 -1.4 -1.4]\n",
      "yt : [INFO     ] 2023-06-15 20:48:53,301 Parameters: domain_right_edge         = [1.4 1.4 1.4]\n",
      "yt : [INFO     ] 2023-06-15 20:48:53,302 Parameters: cosmological_simulation   = 0.0\n",
      "yt : [INFO     ] 2023-06-15 20:48:53,306 Allocating for 3.765e+06 particles (index particle type 'all')\n",
      "yt : [INFO     ] 2023-06-15 20:48:53,644 Parameters: current_time              = 0.0\n",
      "yt : [INFO     ] 2023-06-15 20:48:53,645 Parameters: domain_dimensions         = [2 2 2]\n",
      "yt : [INFO     ] 2023-06-15 20:48:53,646 Parameters: domain_left_edge          = [-1.6 -1.6 -1.6]\n",
      "yt : [INFO     ] 2023-06-15 20:48:53,647 Parameters: domain_right_edge         = [1.6 1.6 1.6]\n",
      "yt : [INFO     ] 2023-06-15 20:48:53,647 Parameters: cosmological_simulation   = 0.0\n",
      "yt : [INFO     ] 2023-06-15 20:48:53,651 Allocating for 3.765e+06 particles (index particle type 'all')\n",
      "yt : [INFO     ] 2023-06-15 20:48:53,989 Parameters: current_time              = 0.0\n",
      "yt : [INFO     ] 2023-06-15 20:48:53,990 Parameters: domain_dimensions         = [2 2 2]\n",
      "yt : [INFO     ] 2023-06-15 20:48:53,991 Parameters: domain_left_edge          = [-1.8 -1.8 -1.8]\n",
      "yt : [INFO     ] 2023-06-15 20:48:53,992 Parameters: domain_right_edge         = [1.8 1.8 1.8]\n",
      "yt : [INFO     ] 2023-06-15 20:48:53,992 Parameters: cosmological_simulation   = 0.0\n",
      "yt : [INFO     ] 2023-06-15 20:48:54,016 Allocating for 3.765e+06 particles (index particle type 'all')\n",
      "yt : [INFO     ] 2023-06-15 20:48:54,915 Identified 2.334e+05 octs\n",
      "yt : [INFO     ] 2023-06-15 20:48:55,333 xlim = -1.800000 1.800000\n",
      "yt : [INFO     ] 2023-06-15 20:48:55,334 ylim = -1.800000 1.800000\n",
      "yt : [INFO     ] 2023-06-15 20:48:55,335 xlim = -1.800000 1.800000\n",
      "yt : [INFO     ] 2023-06-15 20:48:55,335 ylim = -1.800000 1.800000\n",
      "yt : [INFO     ] 2023-06-15 20:48:55,337 Splatting (('star', 'particle_mass')) onto a 800 by 800 mesh\n",
      "yt : [INFO     ] 2023-06-15 20:48:55,848 Parameters: current_time              = 0.0\n",
      "yt : [INFO     ] 2023-06-15 20:48:55,849 Parameters: domain_dimensions         = [2 2 2]\n",
      "yt : [INFO     ] 2023-06-15 20:48:55,849 Parameters: domain_left_edge          = [-1.8 -1.8 -1.8]\n",
      "yt : [INFO     ] 2023-06-15 20:48:55,850 Parameters: domain_right_edge         = [1.8 1.8 1.8]\n",
      "yt : [INFO     ] 2023-06-15 20:48:55,851 Parameters: cosmological_simulation   = 0.0\n",
      "yt : [INFO     ] 2023-06-15 20:48:55,916 Parameters: current_time              = 0.0\n",
      "yt : [INFO     ] 2023-06-15 20:48:55,917 Parameters: domain_dimensions         = [2 2 2]\n",
      "yt : [INFO     ] 2023-06-15 20:48:55,917 Parameters: domain_left_edge          = [-1.8 -1.8 -1.8]\n",
      "yt : [INFO     ] 2023-06-15 20:48:55,918 Parameters: domain_right_edge         = [1.8 1.8 1.8]\n",
      "yt : [INFO     ] 2023-06-15 20:48:55,919 Parameters: cosmological_simulation   = 0.0\n",
      "yt : [INFO     ] 2023-06-15 20:48:55,953 Parameters: current_time              = 0.0\n",
      "yt : [INFO     ] 2023-06-15 20:48:55,954 Parameters: domain_dimensions         = [2 2 2]\n",
      "yt : [INFO     ] 2023-06-15 20:48:55,955 Parameters: domain_left_edge          = [-1.8 -1.8 -1.8]\n",
      "yt : [INFO     ] 2023-06-15 20:48:55,955 Parameters: domain_right_edge         = [1.8 1.8 1.8]\n",
      "yt : [INFO     ] 2023-06-15 20:48:55,957 Parameters: cosmological_simulation   = 0.0\n"
     ]
    }
   ],
   "source": [
    "ds_all,ds_rest,ds_bcg,ds_icm = clus.save_yt_dataset(snapshot)\n"
   ]
  },
  {
   "cell_type": "code",
   "execution_count": 41,
   "metadata": {},
   "outputs": [
    {
     "data": {
      "text/plain": [
       "[('all', 'particle_mass'),\n",
       " ('all', 'particle_position_x'),\n",
       " ('all', 'particle_position_y'),\n",
       " ('all', 'particle_position_z'),\n",
       " ('dm', 'particle_mass'),\n",
       " ('dm', 'particle_position_x'),\n",
       " ('dm', 'particle_position_y'),\n",
       " ('dm', 'particle_position_z'),\n",
       " ('gas', 'fe'),\n",
       " ('gas', 'h'),\n",
       " ('gas', 'o'),\n",
       " ('gas', 'particle_mass'),\n",
       " ('gas', 'particle_position_x'),\n",
       " ('gas', 'particle_position_y'),\n",
       " ('gas', 'particle_position_z'),\n",
       " ('gas', 't'),\n",
       " ('gas', 'z'),\n",
       " ('star', 'particle_mass'),\n",
       " ('star', 'particle_position_x'),\n",
       " ('star', 'particle_position_y'),\n",
       " ('star', 'particle_position_z'),\n",
       " ('star', 'z')]"
      ]
     },
     "execution_count": 41,
     "metadata": {},
     "output_type": "execute_result"
    }
   ],
   "source": [
    "# We can now use these dataset for analysis of all galaxies, central galaxies and ICM\n",
    "# These dataset contain all the information as fields of diffent particles\n",
    "# Check all the fields of ds_all\n",
    "\n",
    "ds_all.field_list"
   ]
  },
  {
   "cell_type": "code",
   "execution_count": 42,
   "metadata": {},
   "outputs": [
    {
     "data": {
      "text/plain": [
       "[('all', 'mesh_id'),\n",
       " ('all', 'particle_mass'),\n",
       " ('all', 'particle_ones'),\n",
       " ('all', 'particle_position'),\n",
       " ('all', 'particle_position_cylindrical_radius'),\n",
       " ('all', 'particle_position_cylindrical_theta'),\n",
       " ('all', 'particle_position_cylindrical_z'),\n",
       " ('all', 'particle_position_relative'),\n",
       " ('all', 'particle_position_relative_x'),\n",
       " ('all', 'particle_position_relative_y'),\n",
       " ('all', 'particle_position_relative_z'),\n",
       " ('all', 'particle_position_spherical_phi'),\n",
       " ('all', 'particle_position_spherical_radius'),\n",
       " ('all', 'particle_position_spherical_theta'),\n",
       " ('all', 'particle_position_x'),\n",
       " ('all', 'particle_position_y'),\n",
       " ('all', 'particle_position_z'),\n",
       " ('all', 'particle_radius'),\n",
       " ('all', 'particle_spherical_position_phi'),\n",
       " ('all', 'particle_spherical_position_radius'),\n",
       " ('all', 'particle_spherical_position_theta'),\n",
       " ('all', 'relative_particle_position'),\n",
       " ('all', 'relative_particle_position_x'),\n",
       " ('all', 'relative_particle_position_y'),\n",
       " ('all', 'relative_particle_position_z'),\n",
       " ('deposit', 'all_cic'),\n",
       " ('deposit', 'all_count'),\n",
       " ('deposit', 'all_density'),\n",
       " ('deposit', 'all_mass'),\n",
       " ('deposit', 'dm_cic'),\n",
       " ('deposit', 'dm_count'),\n",
       " ('deposit', 'dm_density'),\n",
       " ('deposit', 'dm_mass'),\n",
       " ('deposit', 'gas_cic'),\n",
       " ('deposit', 'gas_count'),\n",
       " ('deposit', 'gas_density'),\n",
       " ('deposit', 'gas_mass'),\n",
       " ('deposit', 'star_cic'),\n",
       " ('deposit', 'star_count'),\n",
       " ('deposit', 'star_density'),\n",
       " ('deposit', 'star_mass'),\n",
       " ('dm', 'mesh_id'),\n",
       " ('dm', 'particle_mass'),\n",
       " ('dm', 'particle_ones'),\n",
       " ('dm', 'particle_position'),\n",
       " ('dm', 'particle_position_cylindrical_radius'),\n",
       " ('dm', 'particle_position_cylindrical_theta'),\n",
       " ('dm', 'particle_position_cylindrical_z'),\n",
       " ('dm', 'particle_position_relative'),\n",
       " ('dm', 'particle_position_relative_x'),\n",
       " ('dm', 'particle_position_relative_y'),\n",
       " ('dm', 'particle_position_relative_z'),\n",
       " ('dm', 'particle_position_spherical_phi'),\n",
       " ('dm', 'particle_position_spherical_radius'),\n",
       " ('dm', 'particle_position_spherical_theta'),\n",
       " ('dm', 'particle_position_x'),\n",
       " ('dm', 'particle_position_y'),\n",
       " ('dm', 'particle_position_z'),\n",
       " ('dm', 'particle_radius'),\n",
       " ('dm', 'particle_spherical_position_phi'),\n",
       " ('dm', 'particle_spherical_position_radius'),\n",
       " ('dm', 'particle_spherical_position_theta'),\n",
       " ('dm', 'relative_particle_position'),\n",
       " ('dm', 'relative_particle_position_x'),\n",
       " ('dm', 'relative_particle_position_y'),\n",
       " ('dm', 'relative_particle_position_z'),\n",
       " ('gas', 'cell_volume'),\n",
       " ('gas', 'dx'),\n",
       " ('gas', 'dy'),\n",
       " ('gas', 'dz'),\n",
       " ('gas', 'fe'),\n",
       " ('gas', 'h'),\n",
       " ('gas', 'mesh_id'),\n",
       " ('gas', 'o'),\n",
       " ('gas', 'particle_mass'),\n",
       " ('gas', 'particle_ones'),\n",
       " ('gas', 'particle_position'),\n",
       " ('gas', 'particle_position_cylindrical_radius'),\n",
       " ('gas', 'particle_position_cylindrical_theta'),\n",
       " ('gas', 'particle_position_cylindrical_z'),\n",
       " ('gas', 'particle_position_relative'),\n",
       " ('gas', 'particle_position_relative_x'),\n",
       " ('gas', 'particle_position_relative_y'),\n",
       " ('gas', 'particle_position_relative_z'),\n",
       " ('gas', 'particle_position_spherical_phi'),\n",
       " ('gas', 'particle_position_spherical_radius'),\n",
       " ('gas', 'particle_position_spherical_theta'),\n",
       " ('gas', 'particle_position_x'),\n",
       " ('gas', 'particle_position_y'),\n",
       " ('gas', 'particle_position_z'),\n",
       " ('gas', 'particle_radius'),\n",
       " ('gas', 'particle_spherical_position_phi'),\n",
       " ('gas', 'particle_spherical_position_radius'),\n",
       " ('gas', 'particle_spherical_position_theta'),\n",
       " ('gas', 'path_element_x'),\n",
       " ('gas', 'path_element_y'),\n",
       " ('gas', 'path_element_z'),\n",
       " ('gas', 'relative_particle_position'),\n",
       " ('gas', 'relative_particle_position_x'),\n",
       " ('gas', 'relative_particle_position_y'),\n",
       " ('gas', 'relative_particle_position_z'),\n",
       " ('gas', 't'),\n",
       " ('gas', 'vertex_x'),\n",
       " ('gas', 'vertex_y'),\n",
       " ('gas', 'vertex_z'),\n",
       " ('gas', 'x'),\n",
       " ('gas', 'y'),\n",
       " ('gas', 'z'),\n",
       " ('index', 'cell_volume'),\n",
       " ('index', 'cylindrical_r'),\n",
       " ('index', 'cylindrical_radius'),\n",
       " ('index', 'cylindrical_theta'),\n",
       " ('index', 'cylindrical_z'),\n",
       " ('index', 'disk_angle'),\n",
       " ('index', 'dx'),\n",
       " ('index', 'dy'),\n",
       " ('index', 'dz'),\n",
       " ('index', 'grid_indices'),\n",
       " ('index', 'grid_level'),\n",
       " ('index', 'height'),\n",
       " ('index', 'morton_index'),\n",
       " ('index', 'ones'),\n",
       " ('index', 'ones_over_dx'),\n",
       " ('index', 'path_element_x'),\n",
       " ('index', 'path_element_y'),\n",
       " ('index', 'path_element_z'),\n",
       " ('index', 'radius'),\n",
       " ('index', 'spherical_phi'),\n",
       " ('index', 'spherical_r'),\n",
       " ('index', 'spherical_radius'),\n",
       " ('index', 'spherical_theta'),\n",
       " ('index', 'vertex_x'),\n",
       " ('index', 'vertex_y'),\n",
       " ('index', 'vertex_z'),\n",
       " ('index', 'virial_radius_fraction'),\n",
       " ('index', 'x'),\n",
       " ('index', 'y'),\n",
       " ('index', 'z'),\n",
       " ('index', 'zeros'),\n",
       " ('star', 'mesh_id'),\n",
       " ('star', 'particle_mass'),\n",
       " ('star', 'particle_ones'),\n",
       " ('star', 'particle_position'),\n",
       " ('star', 'particle_position_cylindrical_radius'),\n",
       " ('star', 'particle_position_cylindrical_theta'),\n",
       " ('star', 'particle_position_cylindrical_z'),\n",
       " ('star', 'particle_position_relative'),\n",
       " ('star', 'particle_position_relative_x'),\n",
       " ('star', 'particle_position_relative_y'),\n",
       " ('star', 'particle_position_relative_z'),\n",
       " ('star', 'particle_position_spherical_phi'),\n",
       " ('star', 'particle_position_spherical_radius'),\n",
       " ('star', 'particle_position_spherical_theta'),\n",
       " ('star', 'particle_position_x'),\n",
       " ('star', 'particle_position_y'),\n",
       " ('star', 'particle_position_z'),\n",
       " ('star', 'particle_radius'),\n",
       " ('star', 'particle_spherical_position_phi'),\n",
       " ('star', 'particle_spherical_position_radius'),\n",
       " ('star', 'particle_spherical_position_theta'),\n",
       " ('star', 'relative_particle_position'),\n",
       " ('star', 'relative_particle_position_x'),\n",
       " ('star', 'relative_particle_position_y'),\n",
       " ('star', 'relative_particle_position_z'),\n",
       " ('star', 'z'),\n",
       " ('stream', 'cell_volume'),\n",
       " ('stream', 'dx'),\n",
       " ('stream', 'dy'),\n",
       " ('stream', 'dz'),\n",
       " ('stream', 'path_element_x'),\n",
       " ('stream', 'path_element_y'),\n",
       " ('stream', 'path_element_z'),\n",
       " ('stream', 'vertex_x'),\n",
       " ('stream', 'vertex_y'),\n",
       " ('stream', 'vertex_z'),\n",
       " ('stream', 'x'),\n",
       " ('stream', 'y'),\n",
       " ('stream', 'z')]"
      ]
     },
     "execution_count": 42,
     "metadata": {},
     "output_type": "execute_result"
    }
   ],
   "source": [
    "# there are also extra fields in ds_all that yt generates for us\n",
    "\n",
    "ds_all.derived_field_list"
   ]
  },
  {
   "attachments": {},
   "cell_type": "markdown",
   "metadata": {},
   "source": [
    "Full details of all the capabilities of yt are given here [plotting with yt](https://yt-project.org/doc/visualizing/plots.html)\n",
    "\n",
    "Just to do a demonstration we plot a projection plot of stellar paticle mass\n",
    "\n"
   ]
  },
  {
   "cell_type": "code",
   "execution_count": 46,
   "metadata": {},
   "outputs": [
    {
     "name": "stderr",
     "output_type": "stream",
     "text": [
      "yt : [INFO     ] 2023-06-15 20:56:10,368 xlim = -1.800000 1.800000\n",
      "yt : [INFO     ] 2023-06-15 20:56:10,369 ylim = -1.800000 1.800000\n",
      "yt : [INFO     ] 2023-06-15 20:56:10,370 xlim = -1.800000 1.800000\n",
      "yt : [INFO     ] 2023-06-15 20:56:10,371 ylim = -1.800000 1.800000\n",
      "yt : [INFO     ] 2023-06-15 20:56:10,372 Splatting (('star', 'particle_mass')) onto a 800 by 800 mesh\n",
      "/home/ankitsingh/miniconda3/envs/ICL/lib/python3.7/_collections_abc.py:841: MatplotlibDeprecationWarning: \n",
      "The mathtext.fallback_to_cm rcparam was deprecated in Matplotlib 3.3 and will be removed two minor releases later.\n",
      "  self[key] = other[key]\n",
      "/home/ankitsingh/miniconda3/envs/ICL/lib/python3.7/_collections_abc.py:841: MatplotlibDeprecationWarning: Support for setting the 'mathtext.fallback_to_cm' rcParam is deprecated since 3.3 and will be removed two minor releases later; use 'mathtext.fallback : 'cm' instead.\n",
      "  self[key] = other[key]\n",
      "/home/ankitsingh/miniconda3/envs/ICL/lib/python3.7/_collections_abc.py:841: MatplotlibDeprecationWarning: \n",
      "The validate_bool_maybe_none function was deprecated in Matplotlib 3.3 and will be removed two minor releases later.\n",
      "  self[key] = other[key]\n"
     ]
    },
    {
     "data": {
      "text/html": [
       "<img style=\"max-width:100%%;max-height:100%%;\" src=\"data:image/png;base64,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\"><br>"
      ],
      "text/plain": [
       "<yt.visualization.particle_plots.ParticleProjectionPlot at 0x7f3eef79dbd0>"
      ]
     },
     "execution_count": 46,
     "metadata": {},
     "output_type": "execute_result"
    }
   ],
   "source": [
    "import yt \n",
    "\n",
    "prj = yt.ParticleProjectionPlot(ds_all,'x',(\"star\",\"particle_mass\"))\n",
    "\n",
    "prj.set_unit((\"star\",\"particle_mass\"), \"Msun\")\n",
    "                "
   ]
  },
  {
   "cell_type": "code",
   "execution_count": null,
   "metadata": {},
   "outputs": [],
   "source": []
  }
 ],
 "metadata": {
  "kernelspec": {
   "display_name": "ICL",
   "language": "python",
   "name": "python3"
  },
  "language_info": {
   "codemirror_mode": {
    "name": "ipython",
    "version": 3
   },
   "file_extension": ".py",
   "mimetype": "text/x-python",
   "name": "python",
   "nbconvert_exporter": "python",
   "pygments_lexer": "ipython3",
   "version": "3.7.11"
  },
  "orig_nbformat": 4,
  "vscode": {
   "interpreter": {
    "hash": "1da0b1f0dd85413c4d98d83e0fbd779b3e25f6c9c502cffbf93bbaa6798ff8de"
   }
  }
 },
 "nbformat": 4,
 "nbformat_minor": 2
}
